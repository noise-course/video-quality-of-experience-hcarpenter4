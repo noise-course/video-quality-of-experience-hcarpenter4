{
 "cells": [
  {
   "cell_type": "markdown",
   "metadata": {
    "colab_type": "text",
    "id": "zbGBJegvBuXV"
   },
   "source": [
    "# Assignment: Video Quality Inference\n",
    "\n",
    "To this point in the class, you have learned various techniques for leading and analyzing packet captures of various types, generating features from those packet captures, and training and evaluating models using those features.\n",
    "\n",
    "In this assignment, you will put all of this together, using a network traffic trace to train a model to automatically infer video quality of experience from a labeled traffic trace.\n",
    "\n",
    "## Part 1: Warmup\n",
    "\n",
    "The first part of this assignment builds directly on the hands-on activities but extends them slightly.\n",
    "\n",
    "### Extract Features from the Network Traffic\n",
    "\n",
    "Load the `netflix.pcap` file, which is a packet trace that includes network traffic. \n",
    "\n",
    "Click [here](https://github.com/noise-lab/ml-systems/blob/main/docs/notebooks/data/netflix.pcap) to download `netflix.pcap`.\n"
   ]
  },
  {
   "cell_type": "code",
   "execution_count": 42,
   "metadata": {},
   "outputs": [],
   "source": [
    "from scapy.all import rdpcap, IP, TCP, UDP, DNS\n",
    "import pandas as pd\n",
    "\n",
    "pkts = rdpcap(\"netflix.pcap\")  # may use lots of RAM for big files\n",
    "rows = []\n",
    "for p in pkts:\n",
    "    is_dns = DNS in p\n",
    "    proto = \"DNS\" if is_dns else (\"TCP\" if TCP in p else (\"UDP\" if UDP in p else p.name))\n",
    "    txid = p[DNS].id if is_dns else None\n",
    "    rows.append({\n",
    "        \"timestamp\": float(getattr(p, \"time\", None)),\n",
    "        \"length\": len(p),\n",
    "        \"src_ip\": p[IP].src if IP in p else None,\n",
    "        \"dst_ip\": p[IP].dst if IP in p else None,\n",
    "        \"protocol\": proto,\n",
    "        \"src_port\": p[TCP].sport if TCP in p else (p[UDP].sport if UDP in p else None),\n",
    "        \"dst_port\": p[TCP].dport if TCP in p else (p[UDP].dport if UDP in p else None),\n",
    "        \"txid\": txid,\n",
    "        \"info\": str(p.summary())\n",
    "    })\n",
    "\n",
    "pcap_import = pd.DataFrame(rows)"
   ]
  },
  {
   "cell_type": "code",
   "execution_count": 43,
   "metadata": {},
   "outputs": [
    {
     "data": {
      "text/html": [
       "<div>\n",
       "<style scoped>\n",
       "    .dataframe tbody tr th:only-of-type {\n",
       "        vertical-align: middle;\n",
       "    }\n",
       "\n",
       "    .dataframe tbody tr th {\n",
       "        vertical-align: top;\n",
       "    }\n",
       "\n",
       "    .dataframe thead th {\n",
       "        text-align: right;\n",
       "    }\n",
       "</style>\n",
       "<table border=\"1\" class=\"dataframe\">\n",
       "  <thead>\n",
       "    <tr style=\"text-align: right;\">\n",
       "      <th></th>\n",
       "      <th>timestamp</th>\n",
       "      <th>length</th>\n",
       "      <th>src_ip</th>\n",
       "      <th>dst_ip</th>\n",
       "      <th>protocol</th>\n",
       "      <th>src_port</th>\n",
       "      <th>dst_port</th>\n",
       "      <th>txid</th>\n",
       "      <th>info</th>\n",
       "    </tr>\n",
       "  </thead>\n",
       "  <tbody>\n",
       "    <tr>\n",
       "      <th>0</th>\n",
       "      <td>1.518358e+09</td>\n",
       "      <td>77</td>\n",
       "      <td>192.168.43.72</td>\n",
       "      <td>128.93.77.234</td>\n",
       "      <td>DNS</td>\n",
       "      <td>55697.0</td>\n",
       "      <td>53.0</td>\n",
       "      <td>60684.0</td>\n",
       "      <td>Ether / IP / UDP / DNS Qry \"b'fonts.gstatic.co...</td>\n",
       "    </tr>\n",
       "    <tr>\n",
       "      <th>1</th>\n",
       "      <td>1.518358e+09</td>\n",
       "      <td>77</td>\n",
       "      <td>192.168.43.72</td>\n",
       "      <td>128.93.77.234</td>\n",
       "      <td>DNS</td>\n",
       "      <td>59884.0</td>\n",
       "      <td>53.0</td>\n",
       "      <td>12314.0</td>\n",
       "      <td>Ether / IP / UDP / DNS Qry \"b'fonts.gstatic.co...</td>\n",
       "    </tr>\n",
       "    <tr>\n",
       "      <th>2</th>\n",
       "      <td>1.518358e+09</td>\n",
       "      <td>87</td>\n",
       "      <td>192.168.43.72</td>\n",
       "      <td>128.93.77.234</td>\n",
       "      <td>DNS</td>\n",
       "      <td>61223.0</td>\n",
       "      <td>53.0</td>\n",
       "      <td>4563.0</td>\n",
       "      <td>Ether / IP / UDP / DNS Qry \"b'googleads.g.doub...</td>\n",
       "    </tr>\n",
       "    <tr>\n",
       "      <th>3</th>\n",
       "      <td>1.518358e+09</td>\n",
       "      <td>87</td>\n",
       "      <td>192.168.43.72</td>\n",
       "      <td>128.93.77.234</td>\n",
       "      <td>DNS</td>\n",
       "      <td>58785.0</td>\n",
       "      <td>53.0</td>\n",
       "      <td>4740.0</td>\n",
       "      <td>Ether / IP / UDP / DNS Qry \"b'googleads.g.doub...</td>\n",
       "    </tr>\n",
       "    <tr>\n",
       "      <th>4</th>\n",
       "      <td>1.518358e+09</td>\n",
       "      <td>78</td>\n",
       "      <td>192.168.43.72</td>\n",
       "      <td>128.93.77.234</td>\n",
       "      <td>DNS</td>\n",
       "      <td>51938.0</td>\n",
       "      <td>53.0</td>\n",
       "      <td>13362.0</td>\n",
       "      <td>Ether / IP / UDP / DNS Qry \"b'ytimg.l.google.c...</td>\n",
       "    </tr>\n",
       "  </tbody>\n",
       "</table>\n",
       "</div>"
      ],
      "text/plain": [
       "      timestamp  length         src_ip         dst_ip protocol  src_port  \\\n",
       "0  1.518358e+09      77  192.168.43.72  128.93.77.234      DNS   55697.0   \n",
       "1  1.518358e+09      77  192.168.43.72  128.93.77.234      DNS   59884.0   \n",
       "2  1.518358e+09      87  192.168.43.72  128.93.77.234      DNS   61223.0   \n",
       "3  1.518358e+09      87  192.168.43.72  128.93.77.234      DNS   58785.0   \n",
       "4  1.518358e+09      78  192.168.43.72  128.93.77.234      DNS   51938.0   \n",
       "\n",
       "   dst_port     txid                                               info  \n",
       "0      53.0  60684.0  Ether / IP / UDP / DNS Qry \"b'fonts.gstatic.co...  \n",
       "1      53.0  12314.0  Ether / IP / UDP / DNS Qry \"b'fonts.gstatic.co...  \n",
       "2      53.0   4563.0  Ether / IP / UDP / DNS Qry \"b'googleads.g.doub...  \n",
       "3      53.0   4740.0  Ether / IP / UDP / DNS Qry \"b'googleads.g.doub...  \n",
       "4      53.0  13362.0  Ether / IP / UDP / DNS Qry \"b'ytimg.l.google.c...  "
      ]
     },
     "execution_count": 43,
     "metadata": {},
     "output_type": "execute_result"
    }
   ],
   "source": [
    "pcap_import.head()"
   ]
  },
  {
   "cell_type": "markdown",
   "metadata": {
    "colab_type": "text",
    "id": "TOPPsKpYB6PS"
   },
   "source": [
    "### Identifying the Service Type\n",
    "\n",
    "Use the DNS traffic to filter the packet trace for Netflix traffic."
   ]
  },
  {
   "cell_type": "code",
   "execution_count": 60,
   "metadata": {},
   "outputs": [],
   "source": [
    "nflx_queries = pcap_import[pcap_import[\"info\"].str.contains(r\"netflix|nflx\", na=False) &\n",
    "                           pcap_import[\"info\"].str.contains(r\"Qry\", na=False)]\n",
    "\n",
    "nflx_txids = [int(x) for x in nflx_queries[\"txid\"].unique().tolist()]"
   ]
  },
  {
   "cell_type": "code",
   "execution_count": 68,
   "metadata": {},
   "outputs": [
    {
     "name": "stdout",
     "output_type": "stream",
     "text": [
      "[45466, 12361, 24416, 7939, 30582, 14313, 37909, 26231, 48727, 21826, 9887, 33001, 49332, 14721, 33500, 34542, 60735, 43441]\n"
     ]
    }
   ],
   "source": [
    "print(nflx_txids)"
   ]
  },
  {
   "cell_type": "code",
   "execution_count": 74,
   "metadata": {},
   "outputs": [
    {
     "data": {
      "text/html": [
       "<div>\n",
       "<style scoped>\n",
       "    .dataframe tbody tr th:only-of-type {\n",
       "        vertical-align: middle;\n",
       "    }\n",
       "\n",
       "    .dataframe tbody tr th {\n",
       "        vertical-align: top;\n",
       "    }\n",
       "\n",
       "    .dataframe thead th {\n",
       "        text-align: right;\n",
       "    }\n",
       "</style>\n",
       "<table border=\"1\" class=\"dataframe\">\n",
       "  <thead>\n",
       "    <tr style=\"text-align: right;\">\n",
       "      <th></th>\n",
       "      <th>timestamp</th>\n",
       "      <th>length</th>\n",
       "      <th>src_ip</th>\n",
       "      <th>dst_ip</th>\n",
       "      <th>protocol</th>\n",
       "      <th>src_port</th>\n",
       "      <th>dst_port</th>\n",
       "      <th>txid</th>\n",
       "      <th>info</th>\n",
       "    </tr>\n",
       "  </thead>\n",
       "  <tbody>\n",
       "    <tr>\n",
       "      <th>101</th>\n",
       "      <td>1.518358e+09</td>\n",
       "      <td>109</td>\n",
       "      <td>128.93.77.234</td>\n",
       "      <td>192.168.43.72</td>\n",
       "      <td>DNS</td>\n",
       "      <td>53.0</td>\n",
       "      <td>48058.0</td>\n",
       "      <td>30582.0</td>\n",
       "      <td>Ether / IP / UDP / DNS Ans \"198.38.120.130\"</td>\n",
       "    </tr>\n",
       "    <tr>\n",
       "      <th>102</th>\n",
       "      <td>1.518358e+09</td>\n",
       "      <td>102</td>\n",
       "      <td>128.93.77.234</td>\n",
       "      <td>192.168.43.72</td>\n",
       "      <td>DNS</td>\n",
       "      <td>53.0</td>\n",
       "      <td>43209.0</td>\n",
       "      <td>45466.0</td>\n",
       "      <td>Ether / IP / UDP / DNS Ans \"52.19.39.146\"</td>\n",
       "    </tr>\n",
       "    <tr>\n",
       "      <th>103</th>\n",
       "      <td>1.518358e+09</td>\n",
       "      <td>113</td>\n",
       "      <td>128.93.77.234</td>\n",
       "      <td>192.168.43.72</td>\n",
       "      <td>DNS</td>\n",
       "      <td>53.0</td>\n",
       "      <td>4046.0</td>\n",
       "      <td>7939.0</td>\n",
       "      <td>Ether / IP / UDP / DNS Ans \"52.210.19.176\"</td>\n",
       "    </tr>\n",
       "    <tr>\n",
       "      <th>104</th>\n",
       "      <td>1.518358e+09</td>\n",
       "      <td>109</td>\n",
       "      <td>128.93.77.234</td>\n",
       "      <td>192.168.43.72</td>\n",
       "      <td>DNS</td>\n",
       "      <td>53.0</td>\n",
       "      <td>50901.0</td>\n",
       "      <td>14313.0</td>\n",
       "      <td>Ether / IP / UDP / DNS Ans \"198.38.120.153\"</td>\n",
       "    </tr>\n",
       "    <tr>\n",
       "      <th>105</th>\n",
       "      <td>1.518358e+09</td>\n",
       "      <td>96</td>\n",
       "      <td>128.93.77.234</td>\n",
       "      <td>192.168.43.72</td>\n",
       "      <td>DNS</td>\n",
       "      <td>53.0</td>\n",
       "      <td>28162.0</td>\n",
       "      <td>12361.0</td>\n",
       "      <td>Ether / IP / UDP / DNS Ans \"23.57.80.120\"</td>\n",
       "    </tr>\n",
       "    <tr>\n",
       "      <th>108</th>\n",
       "      <td>1.518358e+09</td>\n",
       "      <td>96</td>\n",
       "      <td>128.93.77.234</td>\n",
       "      <td>192.168.43.72</td>\n",
       "      <td>DNS</td>\n",
       "      <td>53.0</td>\n",
       "      <td>48245.0</td>\n",
       "      <td>24416.0</td>\n",
       "      <td>Ether / IP / UDP / DNS Ans \"23.57.80.120\"</td>\n",
       "    </tr>\n",
       "    <tr>\n",
       "      <th>219</th>\n",
       "      <td>1.518358e+09</td>\n",
       "      <td>94</td>\n",
       "      <td>128.93.77.234</td>\n",
       "      <td>192.168.43.72</td>\n",
       "      <td>DNS</td>\n",
       "      <td>53.0</td>\n",
       "      <td>57216.0</td>\n",
       "      <td>26231.0</td>\n",
       "      <td>Ether / IP / UDP / DNS Ans \"198.38.120.137\"</td>\n",
       "    </tr>\n",
       "    <tr>\n",
       "      <th>224</th>\n",
       "      <td>1.518358e+09</td>\n",
       "      <td>96</td>\n",
       "      <td>128.93.77.234</td>\n",
       "      <td>192.168.43.72</td>\n",
       "      <td>DNS</td>\n",
       "      <td>53.0</td>\n",
       "      <td>55348.0</td>\n",
       "      <td>48727.0</td>\n",
       "      <td>Ether / IP / UDP / DNS Ans \"23.57.80.120\"</td>\n",
       "    </tr>\n",
       "    <tr>\n",
       "      <th>228</th>\n",
       "      <td>1.518358e+09</td>\n",
       "      <td>109</td>\n",
       "      <td>128.93.77.234</td>\n",
       "      <td>192.168.43.72</td>\n",
       "      <td>DNS</td>\n",
       "      <td>53.0</td>\n",
       "      <td>15562.0</td>\n",
       "      <td>37909.0</td>\n",
       "      <td>Ether / IP / UDP / DNS Ans \"198.38.120.167\"</td>\n",
       "    </tr>\n",
       "    <tr>\n",
       "      <th>1019</th>\n",
       "      <td>1.518358e+09</td>\n",
       "      <td>108</td>\n",
       "      <td>128.93.77.234</td>\n",
       "      <td>192.168.43.72</td>\n",
       "      <td>DNS</td>\n",
       "      <td>53.0</td>\n",
       "      <td>36897.0</td>\n",
       "      <td>21826.0</td>\n",
       "      <td>Ether / IP / UDP / DNS Ans \"34.252.77.54\"</td>\n",
       "    </tr>\n",
       "  </tbody>\n",
       "</table>\n",
       "</div>"
      ],
      "text/plain": [
       "         timestamp  length         src_ip         dst_ip protocol  src_port  \\\n",
       "101   1.518358e+09     109  128.93.77.234  192.168.43.72      DNS      53.0   \n",
       "102   1.518358e+09     102  128.93.77.234  192.168.43.72      DNS      53.0   \n",
       "103   1.518358e+09     113  128.93.77.234  192.168.43.72      DNS      53.0   \n",
       "104   1.518358e+09     109  128.93.77.234  192.168.43.72      DNS      53.0   \n",
       "105   1.518358e+09      96  128.93.77.234  192.168.43.72      DNS      53.0   \n",
       "108   1.518358e+09      96  128.93.77.234  192.168.43.72      DNS      53.0   \n",
       "219   1.518358e+09      94  128.93.77.234  192.168.43.72      DNS      53.0   \n",
       "224   1.518358e+09      96  128.93.77.234  192.168.43.72      DNS      53.0   \n",
       "228   1.518358e+09     109  128.93.77.234  192.168.43.72      DNS      53.0   \n",
       "1019  1.518358e+09     108  128.93.77.234  192.168.43.72      DNS      53.0   \n",
       "\n",
       "      dst_port     txid                                          info  \n",
       "101    48058.0  30582.0  Ether / IP / UDP / DNS Ans \"198.38.120.130\"   \n",
       "102    43209.0  45466.0    Ether / IP / UDP / DNS Ans \"52.19.39.146\"   \n",
       "103     4046.0   7939.0   Ether / IP / UDP / DNS Ans \"52.210.19.176\"   \n",
       "104    50901.0  14313.0  Ether / IP / UDP / DNS Ans \"198.38.120.153\"   \n",
       "105    28162.0  12361.0    Ether / IP / UDP / DNS Ans \"23.57.80.120\"   \n",
       "108    48245.0  24416.0    Ether / IP / UDP / DNS Ans \"23.57.80.120\"   \n",
       "219    57216.0  26231.0  Ether / IP / UDP / DNS Ans \"198.38.120.137\"   \n",
       "224    55348.0  48727.0    Ether / IP / UDP / DNS Ans \"23.57.80.120\"   \n",
       "228    15562.0  37909.0  Ether / IP / UDP / DNS Ans \"198.38.120.167\"   \n",
       "1019   36897.0  21826.0    Ether / IP / UDP / DNS Ans \"34.252.77.54\"   "
      ]
     },
     "execution_count": 74,
     "metadata": {},
     "output_type": "execute_result"
    }
   ],
   "source": [
    "nflx_answers = pcap_import[pcap_import[\"txid\"].isin(nflx_txids) & \n",
    "                           pcap_import[\"protocol\"].eq(\"DNS\") & \n",
    "                           pcap_import[\"info\"].str.contains(r\"Ans\", na=False)]\n",
    "\n",
    "nflx_answers.head(10)"
   ]
  },
  {
   "cell_type": "markdown",
   "metadata": {
    "colab_type": "text",
    "id": "0qFV6q2OCCsK"
   },
   "source": [
    "### Generate Statistics\n",
    "\n",
    "Generate statistics and features for the Netflix traffic flows. Use the `netml` library or any other technique that you choose to generate a set of features that you think would be good features for your model. "
   ]
  },
  {
   "cell_type": "code",
   "execution_count": null,
   "metadata": {},
   "outputs": [],
   "source": []
  },
  {
   "cell_type": "markdown",
   "metadata": {
    "colab_type": "text",
    "id": "0qFV6q2OCCsK"
   },
   "source": [
    "**Write a brief justification for the features that you have chosen.**"
   ]
  },
  {
   "cell_type": "markdown",
   "metadata": {},
   "source": []
  },
  {
   "cell_type": "markdown",
   "metadata": {
    "colab_type": "text",
    "id": "lBCP_2SBC2xj"
   },
   "source": [
    "### Inferring Segment downloads\n",
    "\n",
    "In addition to the features that you could generate using the `netml` library or similar, add to your feature vector a \"segment downloads rate\" feature, which indicates the number of video segments downloaded for a given time window.\n",
    "\n",
    "Note: If you are using the `netml` library, generating features with `SAMP` style options may be useful, as this option gives you time windows, and you can then simply add the segment download rate to that existing dataframe."
   ]
  },
  {
   "cell_type": "code",
   "execution_count": null,
   "metadata": {},
   "outputs": [],
   "source": []
  },
  {
   "cell_type": "markdown",
   "metadata": {},
   "source": [
    "## Part 2: Video Quality Inference\n",
    "\n",
    "You will now load the complete video dataset from a previous study to train and test models based on these features to automatically infer the quality of a streaming video flow.\n",
    "\n",
    "For this part of the assignment, you will need two pickle files, which we provide for you by running the code below:\n",
    "\n",
    "```\n",
    "\n",
    "!gdown 'https://drive.google.com/uc?id=1N-Cf4dJ3fpak_AWgO05Fopq_XPYLVqdS' -O netflix_session.pkl\n",
    "!gdown 'https://drive.google.com/uc?id=1PHvEID7My6VZXZveCpQYy3lMo9RvMNTI' -O video_dataset.pkl\n",
    "\n",
    "```"
   ]
  },
  {
   "cell_type": "markdown",
   "metadata": {},
   "source": [
    "### Load the File\n",
    "\n",
    "Load the video dataset pickle file."
   ]
  },
  {
   "cell_type": "code",
   "execution_count": null,
   "metadata": {},
   "outputs": [],
   "source": []
  },
  {
   "cell_type": "markdown",
   "metadata": {},
   "source": [
    "### Clean the File\n",
    "\n",
    "1. The dataset contains video resolutions that are not valid. Remove entries in the dataset that do not contain a valid video resolution. Valid resolutions are 240, 360, 480, 720, 1080."
   ]
  },
  {
   "cell_type": "code",
   "execution_count": null,
   "metadata": {},
   "outputs": [],
   "source": []
  },
  {
   "cell_type": "markdown",
   "metadata": {},
   "source": [
    "2. The file also contains columns that are unnecessary (in fact, unhelpful!) for performing predictions. Identify those columns, and remove them."
   ]
  },
  {
   "cell_type": "code",
   "execution_count": null,
   "metadata": {},
   "outputs": [],
   "source": []
  },
  {
   "cell_type": "markdown",
   "metadata": {},
   "source": [
    "**Briefly explain why you removed those columns.**"
   ]
  },
  {
   "cell_type": "markdown",
   "metadata": {},
   "source": []
  },
  {
   "cell_type": "markdown",
   "metadata": {},
   "source": [
    "### Prepare Your Data\n",
    "\n",
    "Prepare your data matrix, determine your features and labels, and perform a train-test split on your data."
   ]
  },
  {
   "cell_type": "code",
   "execution_count": null,
   "metadata": {},
   "outputs": [],
   "source": []
  },
  {
   "cell_type": "markdown",
   "metadata": {},
   "source": [
    "### Train and Tune Your Model\n",
    "\n",
    "1. Select a model of your choice.\n",
    "2. Train the model using your training data."
   ]
  },
  {
   "cell_type": "code",
   "execution_count": null,
   "metadata": {},
   "outputs": [],
   "source": []
  },
  {
   "cell_type": "markdown",
   "metadata": {},
   "source": [
    "### Tune Your Model\n",
    "\n",
    "Perform hyperparameter tuning to find optimal parameters for your model."
   ]
  },
  {
   "cell_type": "code",
   "execution_count": null,
   "metadata": {},
   "outputs": [],
   "source": []
  },
  {
   "cell_type": "markdown",
   "metadata": {},
   "source": [
    "### Evaluate Your Model\n",
    "\n",
    "Evaluate your model accuracy according to the following metrics:\n",
    "\n",
    "1. Accuracy\n",
    "2. F1 Score\n",
    "3. Confusion Matrix\n",
    "4. ROC/AUC"
   ]
  },
  {
   "cell_type": "markdown",
   "metadata": {},
   "source": [
    "## Part 3: Predict the Ongoing Resolution of a Real Netflix Session\n",
    "\n",
    "Now that you have your model, it's time to put it in practice!\n",
    "\n",
    "Use a preprocessed Netflix video session to infer **and plot** the resolution at 10-second time intervals."
   ]
  },
  {
   "cell_type": "code",
   "execution_count": null,
   "metadata": {},
   "outputs": [],
   "source": []
  }
 ],
 "metadata": {
  "colab": {
   "authorship_tag": "ABX9TyM0Cd1i3qtplCsVAB9qTjxA",
   "collapsed_sections": [],
   "name": "pcap_processing_solution.ipynb",
   "provenance": []
  },
  "kernelspec": {
   "display_name": ".venv (3.12.2)",
   "language": "python",
   "name": "python3"
  },
  "language_info": {
   "codemirror_mode": {
    "name": "ipython",
    "version": 3
   },
   "file_extension": ".py",
   "mimetype": "text/x-python",
   "name": "python",
   "nbconvert_exporter": "python",
   "pygments_lexer": "ipython3",
   "version": "3.12.2"
  }
 },
 "nbformat": 4,
 "nbformat_minor": 1
}
